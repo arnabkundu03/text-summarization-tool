{
 "cells": [
  {
   "cell_type": "code",
   "execution_count": 1,
   "id": "c881d1e6-1936-454d-9821-df56170c756e",
   "metadata": {},
   "outputs": [],
   "source": [
    "text = \"\"\"In a world often dominated by negativity, it's important to remember the power of kindness and compassion. Small acts of kindness have the ability to brighten someone's day, uplift spirits, and create a ripple effect of positivity that can spread far and wide. Whether it's a smile to a stranger, a helping hand to a friend in need, or a thoughtful gesture to a colleague, every act of kindness has the potential to make a difference in someone's life.Beyond individual actions, there is also immense power in collective efforts to create positive change. When communities come together to support one another, incredible things can happen. From grassroots initiatives to global movements, people are uniting to tackle pressing social and environmental issues, driving meaningful progress and inspiring hope for a better future.It's also important to recognize the strength that lies within each and every one of us. We all have the ability to make a positive impact, no matter how small our actions may seem. By tapping into our innate compassion and empathy, we can cultivate a culture of kindness and empathy that enriches our lives and those around us.So let's embrace the power of kindness, and strive to make the world a better place one small act at a time. Together, we can create a brighter, more compassionate future for all.\"\"\""
   ]
  },
  {
   "cell_type": "code",
   "execution_count": 2,
   "id": "3aa97182-1479-4c5c-98e2-0ae5fcc453ad",
   "metadata": {},
   "outputs": [
    {
     "data": {
      "text/plain": [
       "1335"
      ]
     },
     "execution_count": 2,
     "metadata": {},
     "output_type": "execute_result"
    }
   ],
   "source": [
    "len(text)"
   ]
  },
  {
   "cell_type": "code",
   "execution_count": 5,
   "id": "ddcd944c-fa46-43e6-831b-35d42ead012b",
   "metadata": {},
   "outputs": [],
   "source": [
    "import spacy\n",
    "from spacy.lang.en.stop_words import STOP_WORDS\n",
    "from string import punctuation"
   ]
  },
  {
   "cell_type": "code",
   "execution_count": 8,
   "id": "8f3ea5ab-c18c-4017-9516-ca3a1e9edbc9",
   "metadata": {},
   "outputs": [],
   "source": [
    "nlp = spacy.load('en_core_web_sm')"
   ]
  },
  {
   "cell_type": "code",
   "execution_count": 9,
   "id": "3071fbaa-53d5-47a7-a26c-e07b96e4ecc4",
   "metadata": {},
   "outputs": [],
   "source": [
    "doc = nlp(text)"
   ]
  },
  {
   "cell_type": "code",
   "execution_count": 10,
   "id": "08a3f262-6cba-4507-9701-d389ad3b5b6f",
   "metadata": {},
   "outputs": [],
   "source": [
    "tokens = [token.text.lower() for token in doc \n",
    "          if not token.is_stop and \n",
    "          not token.is_punct and \n",
    "          token.text !='\\n']"
   ]
  },
  {
   "cell_type": "code",
   "execution_count": 11,
   "id": "7a31541a-069d-43d2-83dd-42ddc67f1a83",
   "metadata": {},
   "outputs": [
    {
     "data": {
      "text/plain": [
       "['world',\n",
       " 'dominated',\n",
       " 'negativity',\n",
       " 'important',\n",
       " 'remember',\n",
       " 'power',\n",
       " 'kindness',\n",
       " 'compassion',\n",
       " 'small',\n",
       " 'acts',\n",
       " 'kindness',\n",
       " 'ability',\n",
       " 'brighten',\n",
       " 'day',\n",
       " 'uplift',\n",
       " 'spirits',\n",
       " 'create',\n",
       " 'ripple',\n",
       " 'effect',\n",
       " 'positivity',\n",
       " 'spread',\n",
       " 'far',\n",
       " 'wide',\n",
       " 'smile',\n",
       " 'stranger',\n",
       " 'helping',\n",
       " 'hand',\n",
       " 'friend',\n",
       " 'need',\n",
       " 'thoughtful',\n",
       " 'gesture',\n",
       " 'colleague',\n",
       " 'act',\n",
       " 'kindness',\n",
       " 'potential',\n",
       " 'difference',\n",
       " 'life',\n",
       " 'individual',\n",
       " 'actions',\n",
       " 'immense',\n",
       " 'power',\n",
       " 'collective',\n",
       " 'efforts',\n",
       " 'create',\n",
       " 'positive',\n",
       " 'change',\n",
       " 'communities',\n",
       " 'come',\n",
       " 'support',\n",
       " 'incredible',\n",
       " 'things',\n",
       " 'happen',\n",
       " 'grassroots',\n",
       " 'initiatives',\n",
       " 'global',\n",
       " 'movements',\n",
       " 'people',\n",
       " 'uniting',\n",
       " 'tackle',\n",
       " 'pressing',\n",
       " 'social',\n",
       " 'environmental',\n",
       " 'issues',\n",
       " 'driving',\n",
       " 'meaningful',\n",
       " 'progress',\n",
       " 'inspiring',\n",
       " 'hope',\n",
       " 'better',\n",
       " 'future',\n",
       " 'important',\n",
       " 'recognize',\n",
       " 'strength',\n",
       " 'lies',\n",
       " 'ability',\n",
       " 'positive',\n",
       " 'impact',\n",
       " 'matter',\n",
       " 'small',\n",
       " 'actions',\n",
       " 'tapping',\n",
       " 'innate',\n",
       " 'compassion',\n",
       " 'empathy',\n",
       " 'cultivate',\n",
       " 'culture',\n",
       " 'kindness',\n",
       " 'empathy',\n",
       " 'enriches',\n",
       " 'lives',\n",
       " 'let',\n",
       " 'embrace',\n",
       " 'power',\n",
       " 'kindness',\n",
       " 'strive',\n",
       " 'world',\n",
       " 'better',\n",
       " 'place',\n",
       " 'small',\n",
       " 'act',\n",
       " 'time',\n",
       " 'create',\n",
       " 'brighter',\n",
       " 'compassionate',\n",
       " 'future']"
      ]
     },
     "execution_count": 11,
     "metadata": {},
     "output_type": "execute_result"
    }
   ],
   "source": [
    "tokens"
   ]
  },
  {
   "cell_type": "code",
   "execution_count": 12,
   "id": "96d44cc2-0e11-46d1-a93d-0a64971f1939",
   "metadata": {},
   "outputs": [],
   "source": [
    "tokens1=[]\n",
    "stopwords = list(STOP_WORDS)\n",
    "allowed_pos = ['ADJ','PROPN','VERB','NOUN']\n",
    "for token in doc:\n",
    "    if token.text in stopwords or token.text in punctuation:\n",
    "        continue\n",
    "    if token.pos_ in allowed_pos:\n",
    "        tokens1.append(token.text)"
   ]
  },
  {
   "cell_type": "code",
   "execution_count": 13,
   "id": "7c131688-22a1-4e65-be2f-1444dc409219",
   "metadata": {},
   "outputs": [
    {
     "data": {
      "text/plain": [
       "['world',\n",
       " 'dominated',\n",
       " 'negativity',\n",
       " 'important',\n",
       " 'remember',\n",
       " 'power',\n",
       " 'kindness',\n",
       " 'compassion',\n",
       " 'Small',\n",
       " 'acts',\n",
       " 'kindness',\n",
       " 'ability',\n",
       " 'brighten',\n",
       " 'day',\n",
       " 'uplift',\n",
       " 'spirits',\n",
       " 'create',\n",
       " 'ripple',\n",
       " 'effect',\n",
       " 'positivity',\n",
       " 'spread',\n",
       " 'smile',\n",
       " 'stranger',\n",
       " 'helping',\n",
       " 'hand',\n",
       " 'friend',\n",
       " 'need',\n",
       " 'thoughtful',\n",
       " 'gesture',\n",
       " 'colleague',\n",
       " 'act',\n",
       " 'kindness',\n",
       " 'potential',\n",
       " 'difference',\n",
       " 'life',\n",
       " 'individual',\n",
       " 'actions',\n",
       " 'immense',\n",
       " 'power',\n",
       " 'collective',\n",
       " 'efforts',\n",
       " 'create',\n",
       " 'positive',\n",
       " 'change',\n",
       " 'communities',\n",
       " 'come',\n",
       " 'support',\n",
       " 'incredible',\n",
       " 'things',\n",
       " 'happen',\n",
       " 'grassroots',\n",
       " 'initiatives',\n",
       " 'global',\n",
       " 'movements',\n",
       " 'people',\n",
       " 'uniting',\n",
       " 'tackle',\n",
       " 'pressing',\n",
       " 'social',\n",
       " 'environmental',\n",
       " 'issues',\n",
       " 'driving',\n",
       " 'meaningful',\n",
       " 'progress',\n",
       " 'inspiring',\n",
       " 'hope',\n",
       " 'better',\n",
       " 'future',\n",
       " 'important',\n",
       " 'recognize',\n",
       " 'strength',\n",
       " 'lies',\n",
       " 'ability',\n",
       " 'positive',\n",
       " 'impact',\n",
       " 'small',\n",
       " 'actions',\n",
       " 'tapping',\n",
       " 'innate',\n",
       " 'compassion',\n",
       " 'empathy',\n",
       " 'cultivate',\n",
       " 'culture',\n",
       " 'kindness',\n",
       " 'empathy',\n",
       " 'enriches',\n",
       " 'lives',\n",
       " 'let',\n",
       " 'embrace',\n",
       " 'power',\n",
       " 'kindness',\n",
       " 'strive',\n",
       " 'world',\n",
       " 'better',\n",
       " 'place',\n",
       " 'small',\n",
       " 'act',\n",
       " 'time',\n",
       " 'create',\n",
       " 'brighter',\n",
       " 'compassionate',\n",
       " 'future']"
      ]
     },
     "execution_count": 13,
     "metadata": {},
     "output_type": "execute_result"
    }
   ],
   "source": [
    "tokens1"
   ]
  },
  {
   "cell_type": "code",
   "execution_count": 14,
   "id": "c96b7e2f-6ba8-4490-8e90-1b70ec8edbe8",
   "metadata": {},
   "outputs": [],
   "source": [
    "from collections import Counter"
   ]
  },
  {
   "cell_type": "code",
   "execution_count": 15,
   "id": "c4282e52-0120-409e-b9b0-2acc1af35fb2",
   "metadata": {},
   "outputs": [],
   "source": [
    "word_freq = Counter(tokens)"
   ]
  },
  {
   "cell_type": "code",
   "execution_count": 16,
   "id": "476b5077-8fc6-4230-b4d0-dd243f218f08",
   "metadata": {},
   "outputs": [
    {
     "data": {
      "text/plain": [
       "Counter({'kindness': 5,\n",
       "         'power': 3,\n",
       "         'small': 3,\n",
       "         'create': 3,\n",
       "         'world': 2,\n",
       "         'important': 2,\n",
       "         'compassion': 2,\n",
       "         'ability': 2,\n",
       "         'act': 2,\n",
       "         'actions': 2,\n",
       "         'positive': 2,\n",
       "         'better': 2,\n",
       "         'future': 2,\n",
       "         'empathy': 2,\n",
       "         'dominated': 1,\n",
       "         'negativity': 1,\n",
       "         'remember': 1,\n",
       "         'acts': 1,\n",
       "         'brighten': 1,\n",
       "         'day': 1,\n",
       "         'uplift': 1,\n",
       "         'spirits': 1,\n",
       "         'ripple': 1,\n",
       "         'effect': 1,\n",
       "         'positivity': 1,\n",
       "         'spread': 1,\n",
       "         'far': 1,\n",
       "         'wide': 1,\n",
       "         'smile': 1,\n",
       "         'stranger': 1,\n",
       "         'helping': 1,\n",
       "         'hand': 1,\n",
       "         'friend': 1,\n",
       "         'need': 1,\n",
       "         'thoughtful': 1,\n",
       "         'gesture': 1,\n",
       "         'colleague': 1,\n",
       "         'potential': 1,\n",
       "         'difference': 1,\n",
       "         'life': 1,\n",
       "         'individual': 1,\n",
       "         'immense': 1,\n",
       "         'collective': 1,\n",
       "         'efforts': 1,\n",
       "         'change': 1,\n",
       "         'communities': 1,\n",
       "         'come': 1,\n",
       "         'support': 1,\n",
       "         'incredible': 1,\n",
       "         'things': 1,\n",
       "         'happen': 1,\n",
       "         'grassroots': 1,\n",
       "         'initiatives': 1,\n",
       "         'global': 1,\n",
       "         'movements': 1,\n",
       "         'people': 1,\n",
       "         'uniting': 1,\n",
       "         'tackle': 1,\n",
       "         'pressing': 1,\n",
       "         'social': 1,\n",
       "         'environmental': 1,\n",
       "         'issues': 1,\n",
       "         'driving': 1,\n",
       "         'meaningful': 1,\n",
       "         'progress': 1,\n",
       "         'inspiring': 1,\n",
       "         'hope': 1,\n",
       "         'recognize': 1,\n",
       "         'strength': 1,\n",
       "         'lies': 1,\n",
       "         'impact': 1,\n",
       "         'matter': 1,\n",
       "         'tapping': 1,\n",
       "         'innate': 1,\n",
       "         'cultivate': 1,\n",
       "         'culture': 1,\n",
       "         'enriches': 1,\n",
       "         'lives': 1,\n",
       "         'let': 1,\n",
       "         'embrace': 1,\n",
       "         'strive': 1,\n",
       "         'place': 1,\n",
       "         'time': 1,\n",
       "         'brighter': 1,\n",
       "         'compassionate': 1})"
      ]
     },
     "execution_count": 16,
     "metadata": {},
     "output_type": "execute_result"
    }
   ],
   "source": [
    "word_freq"
   ]
  },
  {
   "cell_type": "code",
   "execution_count": 17,
   "id": "56af9d19-dc0e-466a-a463-8211afffc269",
   "metadata": {},
   "outputs": [],
   "source": [
    "max_freq = max(word_freq.values())"
   ]
  },
  {
   "cell_type": "code",
   "execution_count": 18,
   "id": "642b7c14-91b0-4a03-a3d8-1a4f6281ca90",
   "metadata": {},
   "outputs": [
    {
     "data": {
      "text/plain": [
       "5"
      ]
     },
     "execution_count": 18,
     "metadata": {},
     "output_type": "execute_result"
    }
   ],
   "source": [
    "max_freq"
   ]
  },
  {
   "cell_type": "code",
   "execution_count": 19,
   "id": "a0946bf3-f837-475c-b7b7-bbe75433e04d",
   "metadata": {},
   "outputs": [],
   "source": [
    "for word in word_freq.keys():\n",
    "    word_freq[word] = word_freq[word]/max_freq"
   ]
  },
  {
   "cell_type": "code",
   "execution_count": 20,
   "id": "1c2fa2ee-ce04-42c6-a8fc-327358ec0df2",
   "metadata": {},
   "outputs": [
    {
     "data": {
      "text/plain": [
       "Counter({'kindness': 1.0,\n",
       "         'power': 0.6,\n",
       "         'small': 0.6,\n",
       "         'create': 0.6,\n",
       "         'world': 0.4,\n",
       "         'important': 0.4,\n",
       "         'compassion': 0.4,\n",
       "         'ability': 0.4,\n",
       "         'act': 0.4,\n",
       "         'actions': 0.4,\n",
       "         'positive': 0.4,\n",
       "         'better': 0.4,\n",
       "         'future': 0.4,\n",
       "         'empathy': 0.4,\n",
       "         'dominated': 0.2,\n",
       "         'negativity': 0.2,\n",
       "         'remember': 0.2,\n",
       "         'acts': 0.2,\n",
       "         'brighten': 0.2,\n",
       "         'day': 0.2,\n",
       "         'uplift': 0.2,\n",
       "         'spirits': 0.2,\n",
       "         'ripple': 0.2,\n",
       "         'effect': 0.2,\n",
       "         'positivity': 0.2,\n",
       "         'spread': 0.2,\n",
       "         'far': 0.2,\n",
       "         'wide': 0.2,\n",
       "         'smile': 0.2,\n",
       "         'stranger': 0.2,\n",
       "         'helping': 0.2,\n",
       "         'hand': 0.2,\n",
       "         'friend': 0.2,\n",
       "         'need': 0.2,\n",
       "         'thoughtful': 0.2,\n",
       "         'gesture': 0.2,\n",
       "         'colleague': 0.2,\n",
       "         'potential': 0.2,\n",
       "         'difference': 0.2,\n",
       "         'life': 0.2,\n",
       "         'individual': 0.2,\n",
       "         'immense': 0.2,\n",
       "         'collective': 0.2,\n",
       "         'efforts': 0.2,\n",
       "         'change': 0.2,\n",
       "         'communities': 0.2,\n",
       "         'come': 0.2,\n",
       "         'support': 0.2,\n",
       "         'incredible': 0.2,\n",
       "         'things': 0.2,\n",
       "         'happen': 0.2,\n",
       "         'grassroots': 0.2,\n",
       "         'initiatives': 0.2,\n",
       "         'global': 0.2,\n",
       "         'movements': 0.2,\n",
       "         'people': 0.2,\n",
       "         'uniting': 0.2,\n",
       "         'tackle': 0.2,\n",
       "         'pressing': 0.2,\n",
       "         'social': 0.2,\n",
       "         'environmental': 0.2,\n",
       "         'issues': 0.2,\n",
       "         'driving': 0.2,\n",
       "         'meaningful': 0.2,\n",
       "         'progress': 0.2,\n",
       "         'inspiring': 0.2,\n",
       "         'hope': 0.2,\n",
       "         'recognize': 0.2,\n",
       "         'strength': 0.2,\n",
       "         'lies': 0.2,\n",
       "         'impact': 0.2,\n",
       "         'matter': 0.2,\n",
       "         'tapping': 0.2,\n",
       "         'innate': 0.2,\n",
       "         'cultivate': 0.2,\n",
       "         'culture': 0.2,\n",
       "         'enriches': 0.2,\n",
       "         'lives': 0.2,\n",
       "         'let': 0.2,\n",
       "         'embrace': 0.2,\n",
       "         'strive': 0.2,\n",
       "         'place': 0.2,\n",
       "         'time': 0.2,\n",
       "         'brighter': 0.2,\n",
       "         'compassionate': 0.2})"
      ]
     },
     "execution_count": 20,
     "metadata": {},
     "output_type": "execute_result"
    }
   ],
   "source": [
    "word_freq"
   ]
  },
  {
   "cell_type": "code",
   "execution_count": 21,
   "id": "c2e7c2ff-7230-4a2c-bef0-167a67cd3964",
   "metadata": {},
   "outputs": [],
   "source": [
    "sent_token = [sent.text for sent in doc.sents]"
   ]
  },
  {
   "cell_type": "code",
   "execution_count": 22,
   "id": "6b48f53f-7f77-434e-9e20-bbc5eb894ced",
   "metadata": {},
   "outputs": [
    {
     "data": {
      "text/plain": [
       "[\"In a world often dominated by negativity, it's important to remember the power of kindness and compassion.\",\n",
       " \"Small acts of kindness have the ability to brighten someone's day, uplift spirits, and create a ripple effect of positivity that can spread far and wide.\",\n",
       " \"Whether it's a smile to a stranger, a helping hand to a friend in need, or a thoughtful gesture to a colleague, every act of kindness has the potential to make a difference in someone's life.\",\n",
       " 'Beyond individual actions, there is also immense power in collective efforts to create positive change.',\n",
       " 'When communities come together to support one another, incredible things can happen.',\n",
       " 'From grassroots initiatives to global movements, people are uniting to tackle pressing social and environmental issues, driving meaningful progress and inspiring hope for a better future.',\n",
       " \"It's also important to recognize the strength that lies within each and every one of us.\",\n",
       " 'We all have the ability to make a positive impact, no matter how small our actions may seem.',\n",
       " 'By tapping into our innate compassion and empathy, we can cultivate a culture of kindness and empathy that enriches our lives and those around us.',\n",
       " \"So let's embrace the power of kindness, and strive to make the world a better place one small act at a time.\",\n",
       " 'Together, we can create a brighter, more compassionate future for all.']"
      ]
     },
     "execution_count": 22,
     "metadata": {},
     "output_type": "execute_result"
    }
   ],
   "source": [
    "sent_token"
   ]
  },
  {
   "cell_type": "code",
   "execution_count": 23,
   "id": "e71ec7b4-3dd5-4df6-828e-ad0874f47a30",
   "metadata": {},
   "outputs": [
    {
     "name": "stdout",
     "output_type": "stream",
     "text": [
      "In\n",
      "a\n",
      "world\n",
      "often\n",
      "dominated\n",
      "by\n",
      "negativity,\n",
      "it's\n",
      "important\n",
      "to\n",
      "remember\n",
      "the\n",
      "power\n",
      "of\n",
      "kindness\n",
      "and\n",
      "compassion.\n",
      "Small\n",
      "acts\n",
      "of\n",
      "kindness\n",
      "have\n",
      "the\n",
      "ability\n",
      "to\n",
      "brighten\n",
      "someone's\n",
      "day,\n",
      "uplift\n",
      "spirits,\n",
      "and\n",
      "create\n",
      "a\n",
      "ripple\n",
      "effect\n",
      "of\n",
      "positivity\n",
      "that\n",
      "can\n",
      "spread\n",
      "far\n",
      "and\n",
      "wide.\n",
      "Whether\n",
      "it's\n",
      "a\n",
      "smile\n",
      "to\n",
      "a\n",
      "stranger,\n",
      "a\n",
      "helping\n",
      "hand\n",
      "to\n",
      "a\n",
      "friend\n",
      "in\n",
      "need,\n",
      "or\n",
      "a\n",
      "thoughtful\n",
      "gesture\n",
      "to\n",
      "a\n",
      "colleague,\n",
      "every\n",
      "act\n",
      "of\n",
      "kindness\n",
      "has\n",
      "the\n",
      "potential\n",
      "to\n",
      "make\n",
      "a\n",
      "difference\n",
      "in\n",
      "someone's\n",
      "life.\n",
      "Beyond\n",
      "individual\n",
      "actions,\n",
      "there\n",
      "is\n",
      "also\n",
      "immense\n",
      "power\n",
      "in\n",
      "collective\n",
      "efforts\n",
      "to\n",
      "create\n",
      "positive\n",
      "change.\n",
      "When\n",
      "communities\n",
      "come\n",
      "together\n",
      "to\n",
      "support\n",
      "one\n",
      "another,\n",
      "incredible\n",
      "things\n",
      "can\n",
      "happen.\n",
      "From\n",
      "grassroots\n",
      "initiatives\n",
      "to\n",
      "global\n",
      "movements,\n",
      "people\n",
      "are\n",
      "uniting\n",
      "to\n",
      "tackle\n",
      "pressing\n",
      "social\n",
      "and\n",
      "environmental\n",
      "issues,\n",
      "driving\n",
      "meaningful\n",
      "progress\n",
      "and\n",
      "inspiring\n",
      "hope\n",
      "for\n",
      "a\n",
      "better\n",
      "future.\n",
      "It's\n",
      "also\n",
      "important\n",
      "to\n",
      "recognize\n",
      "the\n",
      "strength\n",
      "that\n",
      "lies\n",
      "within\n",
      "each\n",
      "and\n",
      "every\n",
      "one\n",
      "of\n",
      "us.\n",
      "We\n",
      "all\n",
      "have\n",
      "the\n",
      "ability\n",
      "to\n",
      "make\n",
      "a\n",
      "positive\n",
      "impact,\n",
      "no\n",
      "matter\n",
      "how\n",
      "small\n",
      "our\n",
      "actions\n",
      "may\n",
      "seem.\n",
      "By\n",
      "tapping\n",
      "into\n",
      "our\n",
      "innate\n",
      "compassion\n",
      "and\n",
      "empathy,\n",
      "we\n",
      "can\n",
      "cultivate\n",
      "a\n",
      "culture\n",
      "of\n",
      "kindness\n",
      "and\n",
      "empathy\n",
      "that\n",
      "enriches\n",
      "our\n",
      "lives\n",
      "and\n",
      "those\n",
      "around\n",
      "us.\n",
      "So\n",
      "let's\n",
      "embrace\n",
      "the\n",
      "power\n",
      "of\n",
      "kindness,\n",
      "and\n",
      "strive\n",
      "to\n",
      "make\n",
      "the\n",
      "world\n",
      "a\n",
      "better\n",
      "place\n",
      "one\n",
      "small\n",
      "act\n",
      "at\n",
      "a\n",
      "time.\n",
      "Together,\n",
      "we\n",
      "can\n",
      "create\n",
      "a\n",
      "brighter,\n",
      "more\n",
      "compassionate\n",
      "future\n",
      "for\n",
      "all.\n"
     ]
    }
   ],
   "source": [
    "sent_score = {}\n",
    "for sent in sent_token:\n",
    "    for word in sent.split():\n",
    "        if word.lower() in word_freq.keys():\n",
    "            if sent not in sent_score.keys():\n",
    "                sent_score[sent] = word_freq[word]\n",
    "            else:\n",
    "                sent_score[sent] +=word_freq[word]\n",
    "        print(word)"
   ]
  },
  {
   "cell_type": "code",
   "execution_count": 24,
   "id": "fe6b460d-4926-4ce3-bcfc-ffcf79a8b4c0",
   "metadata": {},
   "outputs": [
    {
     "data": {
      "text/plain": [
       "{\"In a world often dominated by negativity, it's important to remember the power of kindness and compassion.\": 2.8,\n",
       " \"Small acts of kindness have the ability to brighten someone's day, uplift spirits, and create a ripple effect of positivity that can spread far and wide.\": 3.600000000000001,\n",
       " \"Whether it's a smile to a stranger, a helping hand to a friend in need, or a thoughtful gesture to a colleague, every act of kindness has the potential to make a difference in someone's life.\": 3.0000000000000004,\n",
       " 'Beyond individual actions, there is also immense power in collective efforts to create positive change.': 2.4,\n",
       " 'When communities come together to support one another, incredible things can happen.': 1.0,\n",
       " 'From grassroots initiatives to global movements, people are uniting to tackle pressing social and environmental issues, driving meaningful progress and inspiring hope for a better future.': 3.2,\n",
       " \"It's also important to recognize the strength that lies within each and every one of us.\": 1.0,\n",
       " 'We all have the ability to make a positive impact, no matter how small our actions may seem.': 2.0,\n",
       " 'By tapping into our innate compassion and empathy, we can cultivate a culture of kindness and empathy that enriches our lives and those around us.': 3.0000000000000004,\n",
       " \"So let's embrace the power of kindness, and strive to make the world a better place one small act at a time.\": 2.9999999999999996,\n",
       " 'Together, we can create a brighter, more compassionate future for all.': 1.2000000000000002}"
      ]
     },
     "execution_count": 24,
     "metadata": {},
     "output_type": "execute_result"
    }
   ],
   "source": [
    "sent_score"
   ]
  },
  {
   "cell_type": "code",
   "execution_count": 25,
   "id": "53525857-e8dd-400a-9636-8d28ab969693",
   "metadata": {},
   "outputs": [],
   "source": [
    "import pandas as pd"
   ]
  },
  {
   "cell_type": "code",
   "execution_count": 26,
   "id": "c18c9ce5-c0f1-4725-994c-4e964dc34843",
   "metadata": {},
   "outputs": [
    {
     "data": {
      "text/html": [
       "<div>\n",
       "<style scoped>\n",
       "    .dataframe tbody tr th:only-of-type {\n",
       "        vertical-align: middle;\n",
       "    }\n",
       "\n",
       "    .dataframe tbody tr th {\n",
       "        vertical-align: top;\n",
       "    }\n",
       "\n",
       "    .dataframe thead th {\n",
       "        text-align: right;\n",
       "    }\n",
       "</style>\n",
       "<table border=\"1\" class=\"dataframe\">\n",
       "  <thead>\n",
       "    <tr style=\"text-align: right;\">\n",
       "      <th></th>\n",
       "      <th>Sentence</th>\n",
       "      <th>Score</th>\n",
       "    </tr>\n",
       "  </thead>\n",
       "  <tbody>\n",
       "    <tr>\n",
       "      <th>0</th>\n",
       "      <td>In a world often dominated by negativity, it's...</td>\n",
       "      <td>2.8</td>\n",
       "    </tr>\n",
       "    <tr>\n",
       "      <th>1</th>\n",
       "      <td>Small acts of kindness have the ability to bri...</td>\n",
       "      <td>3.6</td>\n",
       "    </tr>\n",
       "    <tr>\n",
       "      <th>2</th>\n",
       "      <td>Whether it's a smile to a stranger, a helping ...</td>\n",
       "      <td>3.0</td>\n",
       "    </tr>\n",
       "    <tr>\n",
       "      <th>3</th>\n",
       "      <td>Beyond individual actions, there is also immen...</td>\n",
       "      <td>2.4</td>\n",
       "    </tr>\n",
       "    <tr>\n",
       "      <th>4</th>\n",
       "      <td>When communities come together to support one ...</td>\n",
       "      <td>1.0</td>\n",
       "    </tr>\n",
       "    <tr>\n",
       "      <th>5</th>\n",
       "      <td>From grassroots initiatives to global movement...</td>\n",
       "      <td>3.2</td>\n",
       "    </tr>\n",
       "    <tr>\n",
       "      <th>6</th>\n",
       "      <td>It's also important to recognize the strength ...</td>\n",
       "      <td>1.0</td>\n",
       "    </tr>\n",
       "    <tr>\n",
       "      <th>7</th>\n",
       "      <td>We all have the ability to make a positive imp...</td>\n",
       "      <td>2.0</td>\n",
       "    </tr>\n",
       "    <tr>\n",
       "      <th>8</th>\n",
       "      <td>By tapping into our innate compassion and empa...</td>\n",
       "      <td>3.0</td>\n",
       "    </tr>\n",
       "    <tr>\n",
       "      <th>9</th>\n",
       "      <td>So let's embrace the power of kindness, and st...</td>\n",
       "      <td>3.0</td>\n",
       "    </tr>\n",
       "    <tr>\n",
       "      <th>10</th>\n",
       "      <td>Together, we can create a brighter, more compa...</td>\n",
       "      <td>1.2</td>\n",
       "    </tr>\n",
       "  </tbody>\n",
       "</table>\n",
       "</div>"
      ],
      "text/plain": [
       "                                             Sentence  Score\n",
       "0   In a world often dominated by negativity, it's...    2.8\n",
       "1   Small acts of kindness have the ability to bri...    3.6\n",
       "2   Whether it's a smile to a stranger, a helping ...    3.0\n",
       "3   Beyond individual actions, there is also immen...    2.4\n",
       "4   When communities come together to support one ...    1.0\n",
       "5   From grassroots initiatives to global movement...    3.2\n",
       "6   It's also important to recognize the strength ...    1.0\n",
       "7   We all have the ability to make a positive imp...    2.0\n",
       "8   By tapping into our innate compassion and empa...    3.0\n",
       "9   So let's embrace the power of kindness, and st...    3.0\n",
       "10  Together, we can create a brighter, more compa...    1.2"
      ]
     },
     "execution_count": 26,
     "metadata": {},
     "output_type": "execute_result"
    }
   ],
   "source": [
    "pd.DataFrame(list(sent_score.items()),columns=['Sentence','Score'])"
   ]
  },
  {
   "cell_type": "code",
   "execution_count": 27,
   "id": "7e1403f7-c19a-417f-99bb-6faca09ac536",
   "metadata": {},
   "outputs": [],
   "source": [
    "from heapq import nlargest"
   ]
  },
  {
   "cell_type": "code",
   "execution_count": 28,
   "id": "b8ad5b5e-b85c-4791-9dc4-c6124080c867",
   "metadata": {},
   "outputs": [],
   "source": [
    "num_sentences =3\n",
    "n = nlargest(num_sentences,sent_score,key=sent_score.get)"
   ]
  },
  {
   "cell_type": "code",
   "execution_count": 29,
   "id": "251cb507-367e-4bc4-8767-76ad414f3226",
   "metadata": {},
   "outputs": [
    {
     "data": {
      "text/plain": [
       "\"Small acts of kindness have the ability to brighten someone's day, uplift spirits, and create a ripple effect of positivity that can spread far and wide. From grassroots initiatives to global movements, people are uniting to tackle pressing social and environmental issues, driving meaningful progress and inspiring hope for a better future. Whether it's a smile to a stranger, a helping hand to a friend in need, or a thoughtful gesture to a colleague, every act of kindness has the potential to make a difference in someone's life.\""
      ]
     },
     "execution_count": 29,
     "metadata": {},
     "output_type": "execute_result"
    }
   ],
   "source": [
    "\" \".join(n)"
   ]
  },
  {
   "cell_type": "code",
   "execution_count": null,
   "id": "f2c23101-6cdb-4d68-97a7-c8c0ba011380",
   "metadata": {},
   "outputs": [],
   "source": []
  },
  {
   "cell_type": "code",
   "execution_count": null,
   "id": "be56c1f6-33fd-4466-9952-816ca7b5994c",
   "metadata": {},
   "outputs": [],
   "source": []
  },
  {
   "cell_type": "code",
   "execution_count": 2,
   "id": "94d38555-5de4-47cc-b131-880834444b5b",
   "metadata": {},
   "outputs": [
    {
     "name": "stderr",
     "output_type": "stream",
     "text": [
      "C:\\Users\\Arnab\\AppData\\Roaming\\Python\\Python311\\site-packages\\tqdm\\auto.py:21: TqdmWarning: IProgress not found. Please update jupyter and ipywidgets. See https://ipywidgets.readthedocs.io/en/stable/user_install.html\n",
      "  from .autonotebook import tqdm as notebook_tqdm\n"
     ]
    }
   ],
   "source": [
    "from transformers import pipeline"
   ]
  },
  {
   "cell_type": "code",
   "execution_count": 4,
   "id": "47661ae2-5de6-4959-a72f-01b851b5a519",
   "metadata": {},
   "outputs": [
    {
     "name": "stderr",
     "output_type": "stream",
     "text": [
      "Device set to use cpu\n"
     ]
    }
   ],
   "source": [
    "summarizer=pipeline(\"summarization\",model='t5-base',tokenizer='t5-base',framework='pt')"
   ]
  },
  {
   "cell_type": "code",
   "execution_count": 5,
   "id": "030de921-7129-4cc9-ab7f-cc26c4bba7ea",
   "metadata": {},
   "outputs": [],
   "source": [
    "text = \"\"\"In a world often dominated by negativity, it's important to remember the power of kindness and compassion. Small acts of kindness have the ability to brighten someone's day, uplift spirits, and create a ripple effect of positivity that can spread far and wide. Whether it's a smile to a stranger, a helping hand to a friend in need, or a thoughtful gesture to a colleague, every act of kindness has the potential to make a difference in someone's life.Beyond individual actions, there is also immense power in collective efforts to create positive change. When communities come together to support one another, incredible things can happen. From grassroots initiatives to global movements, people are uniting to tackle pressing social and environmental issues, driving meaningful progress and inspiring hope for a better future.It's also important to recognize the strength that lies within each and every one of us. We all have the ability to make a positive impact, no matter how small our actions may seem. By tapping into our innate compassion and empathy, we can cultivate a culture of kindness and empathy that enriches our lives and those around us.So let's embrace the power of kindness, and strive to make the world a better place one small act at a time. Together, we can create a brighter, more compassionate future for all.\"\"\""
   ]
  },
  {
   "cell_type": "code",
   "execution_count": 6,
   "id": "3dfc5163-138c-4365-b7ed-c53ef873e3ed",
   "metadata": {},
   "outputs": [
    {
     "name": "stderr",
     "output_type": "stream",
     "text": [
      "Both `max_new_tokens` (=256) and `max_length`(=100) seem to have been set. `max_new_tokens` will take precedence. Please refer to the documentation for more information. (https://huggingface.co/docs/transformers/main/en/main_classes/text_generation)\n"
     ]
    }
   ],
   "source": [
    "summary = summarizer(text,max_length=100,min_length=10,do_sample=False)"
   ]
  },
  {
   "cell_type": "code",
   "execution_count": 7,
   "id": "ec672531-8f9b-4fad-ad3b-7440b505597e",
   "metadata": {},
   "outputs": [
    {
     "data": {
      "text/plain": [
       "[{'summary_text': \"small acts of kindness can brighten someone's day, uplift spirits, and create a ripple effect of positivity . when communities come together to support one another, incredible things can happen . we all have the ability to make a positive impact, no matter how small our actions may seem .\"}]"
      ]
     },
     "execution_count": 7,
     "metadata": {},
     "output_type": "execute_result"
    }
   ],
   "source": [
    "summary"
   ]
  },
  {
   "cell_type": "code",
   "execution_count": 8,
   "id": "cfeb75ff-bf66-458b-ac29-67d16f756bee",
   "metadata": {},
   "outputs": [
    {
     "name": "stdout",
     "output_type": "stream",
     "text": [
      "small acts of kindness can brighten someone's day, uplift spirits, and create a ripple effect of positivity . when communities come together to support one another, incredible things can happen . we all have the ability to make a positive impact, no matter how small our actions may seem .\n"
     ]
    }
   ],
   "source": [
    "print(summary[0]['summary_text'])"
   ]
  },
  {
   "cell_type": "code",
   "execution_count": null,
   "id": "d7b28718-1dde-468b-bb32-21194f15cace",
   "metadata": {},
   "outputs": [],
   "source": []
  }
 ],
 "metadata": {
  "kernelspec": {
   "display_name": "Python 3 (ipykernel)",
   "language": "python",
   "name": "python3"
  },
  "language_info": {
   "codemirror_mode": {
    "name": "ipython",
    "version": 3
   },
   "file_extension": ".py",
   "mimetype": "text/x-python",
   "name": "python",
   "nbconvert_exporter": "python",
   "pygments_lexer": "ipython3",
   "version": "3.11.5"
  }
 },
 "nbformat": 4,
 "nbformat_minor": 5
}
